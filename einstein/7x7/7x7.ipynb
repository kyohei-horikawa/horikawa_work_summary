{
 "cells": [
  {
   "cell_type": "code",
   "execution_count": 1,
   "id": "4b17f8d6",
   "metadata": {},
   "outputs": [],
   "source": [
    "import math\n",
    "import matplotlib.pyplot as plt\n",
    "import numpy as np\n",
    "from scipy.optimize import curve_fit\n",
    "from scipy import optimize\n",
    "import sympy as sym\n",
    "from sympy.plotting import plot\n",
    "import numpy as np\n",
    "\n",
    "%matplotlib inline"
   ]
  },
  {
   "cell_type": "code",
   "execution_count": 2,
   "id": "ea189803",
   "metadata": {},
   "outputs": [],
   "source": [
    "layer=1\n",
    "equi_n=[4,16,16,16,16,16,16,16,16,4,16,16,16,16]\n",
    "n_equi=len(equi_n)\n",
    "n_atom=sum(equi_n)*layer\n",
    "p_n_atom=108\n",
    "ss0=(4.0414*3.5359714334999999)**2"
   ]
  },
  {
   "cell_type": "code",
   "execution_count": 3,
   "id": "ec31d0e8",
   "metadata": {},
   "outputs": [],
   "source": [
    "M=26.98\n",
    "hbar=4.136*10**(-15)/2/math.pi\n",
    "har=4.136*10**(-15)\n",
    "kb=8.617 * 10**(-5)\n",
    "Na=6.0221367*10**(23)"
   ]
  },
  {
   "cell_type": "code",
   "execution_count": 4,
   "id": "481c3d88",
   "metadata": {},
   "outputs": [],
   "source": [
    "ev=1.60218*10**(-19) #J"
   ]
  },
  {
   "cell_type": "code",
   "execution_count": 5,
   "id": "3b238091",
   "metadata": {},
   "outputs": [],
   "source": [
    "perfect=[\n",
    " [ -2, n_atom, -401.38909,    2.91414,    2.91400,    2.91414],\n",
    "    [ 0, n_atom, -403.18033,    2.27343,    2.27300,    2.27243],\n",
    "    [ 2, n_atom, -401.89254,    1.87579,    1.87571,    1.87557],\n",
    "    [ 4, n_atom, -398.11977,    1.42171,    1.42157,    1.42193]]"
   ]
  },
  {
   "cell_type": "code",
   "execution_count": 6,
   "id": "81cf29d7",
   "metadata": {},
   "outputs": [],
   "source": [
    "X=[]\n",
    "Y=[]\n",
    "for data in perfect:\n",
    "    X.append(data[0]/100)\n",
    "    Y.append(data[3])"
   ]
  },
  {
   "cell_type": "markdown",
   "id": "fa32f795",
   "metadata": {},
   "source": [
    "## fitting\n",
    "\n",
    "https://qiita.com/maskot1977/items/e4f5f71200180865986e"
   ]
  },
  {
   "cell_type": "code",
   "execution_count": 7,
   "id": "287e2f48",
   "metadata": {},
   "outputs": [],
   "source": [
    "def func3(X, a, b, c, d): # 3次式近似\n",
    "    Y = a + b * X + c * X ** 2 + d * X ** 3\n",
    "    return Y"
   ]
  },
  {
   "cell_type": "code",
   "execution_count": 8,
   "id": "deb354ac",
   "metadata": {},
   "outputs": [],
   "source": [
    "def func2(X, a, b, c): # 2次式近似\n",
    "    Y = a + b * X + c * X ** 2\n",
    "    return Y"
   ]
  },
  {
   "cell_type": "code",
   "execution_count": 9,
   "id": "269ca06a",
   "metadata": {},
   "outputs": [
    {
     "data": {
      "text/plain": [
       "array([  2.3183565 , -26.70752507, 116.64375325])"
      ]
     },
     "execution_count": 9,
     "metadata": {},
     "output_type": "execute_result"
    }
   ],
   "source": [
    "popt, pcov = curve_fit(func2,X,Y) # poptは最適推定値、pcovは共分散\n",
    "popt"
   ]
  },
  {
   "cell_type": "code",
   "execution_count": 10,
   "id": "7fe1c02c",
   "metadata": {},
   "outputs": [],
   "source": [
    "x=sym.symbols('x')"
   ]
  },
  {
   "cell_type": "code",
   "execution_count": 11,
   "id": "dbadb30b",
   "metadata": {},
   "outputs": [
    {
     "data": {
      "text/latex": [
       "$\\displaystyle 116.643753250296 x^{2} - 26.7075250691843 x + 2.31835649874167$"
      ],
      "text/plain": [
       "116.643753250296*x**2 - 26.7075250691843*x + 2.31835649874167"
      ]
     },
     "execution_count": 11,
     "metadata": {},
     "output_type": "execute_result"
    }
   ],
   "source": [
    "ks=popt[0]+popt[1]*x+popt[2]*x**2\n",
    "ks"
   ]
  },
  {
   "cell_type": "code",
   "execution_count": 12,
   "id": "6a41e21d",
   "metadata": {},
   "outputs": [],
   "source": [
    "xx = np.linspace(-0.04, 0.06, 100)\n",
    "yy=[]\n",
    "for _x  in xx:\n",
    "    yy.append(ks.subs(x,_x))"
   ]
  },
  {
   "cell_type": "code",
   "execution_count": 13,
   "id": "be158735",
   "metadata": {},
   "outputs": [
    {
     "data": {
      "text/plain": [
       "<matplotlib.collections.PathCollection at 0x13c8de580>"
      ]
     },
     "execution_count": 13,
     "metadata": {},
     "output_type": "execute_result"
    },
    {
     "data": {
      "image/png": "[encoded data removed]",
      "text/plain": [
       "<Figure size 432x288 with 1 Axes>"
      ]
     },
     "metadata": {
      "needs_background": "light"
     },
     "output_type": "display_data"
    }
   ],
   "source": [
    "fig, ax = plt.subplots()\n",
    "ax.set_xlabel('Lattice constant change [%]')  # x軸ラベル\n",
    "ax.set_ylabel(r\"$Spring\\;constant\\;[eV/A^2]$\")  # y軸ラベル\n",
    "# ax.set_title(r'$\\sin(x)$ and $\\cos(x)$') # グラフタイトル\n",
    "ax.grid() \n",
    "ax.plot(xx,yy)\n",
    "ax.scatter(X,Y)"
   ]
  },
  {
   "cell_type": "code",
   "execution_count": 14,
   "id": "fcf6581b",
   "metadata": {},
   "outputs": [],
   "source": [
    "X=[]\n",
    "Y=[]\n",
    "for data in perfect:\n",
    "    X.append(data[0]/100)\n",
    "    Y.append(data[2])"
   ]
  },
  {
   "cell_type": "code",
   "execution_count": 15,
   "id": "61a35971",
   "metadata": {},
   "outputs": [
    {
     "name": "stderr",
     "output_type": "stream",
     "text": [
      "/Users/kyohei/miniforge3/lib/python3.9/site-packages/scipy/optimize/minpack.py:833: OptimizeWarning: Covariance of the parameters could not be estimated\n",
      "  warnings.warn('Covariance of the parameters could not be estimated',\n"
     ]
    },
    {
     "data": {
      "text/plain": [
       "array([-4.03180330e+02, -7.63583333e+00,  3.84878750e+03, -1.23760417e+04])"
      ]
     },
     "execution_count": 15,
     "metadata": {},
     "output_type": "execute_result"
    }
   ],
   "source": [
    "popt, pcov = curve_fit(func3,X,Y) # poptは最適推定値、pcovは共分散\n",
    "popt"
   ]
  },
  {
   "cell_type": "code",
   "execution_count": 16,
   "id": "551c8ecb",
   "metadata": {},
   "outputs": [
    {
     "data": {
      "text/latex": [
       "$\\displaystyle - 12376.0416666693 x^{3} + 3848.78750000012 x^{2} - 7.63583333333341 x - 403.18033$"
      ],
      "text/plain": [
       "-12376.0416666693*x**3 + 3848.78750000012*x**2 - 7.63583333333341*x - 403.18033"
      ]
     },
     "execution_count": 16,
     "metadata": {},
     "output_type": "execute_result"
    }
   ],
   "source": [
    "e0=popt[0]+popt[1]*x+popt[2]*x**2+popt[3]*x**3\n",
    "e0"
   ]
  },
  {
   "cell_type": "code",
   "execution_count": 17,
   "id": "fed6cea9",
   "metadata": {},
   "outputs": [],
   "source": [
    "xx = np.linspace(-0.04, 0.06, 100)\n",
    "yy=[]\n",
    "for _x  in xx:\n",
    "    yy.append(e0.subs(x,_x))"
   ]
  },
  {
   "cell_type": "code",
   "execution_count": 18,
   "id": "f62ebb1f",
   "metadata": {},
   "outputs": [
    {
     "data": {
      "text/plain": [
       "<matplotlib.collections.PathCollection at 0x13cc06ac0>"
      ]
     },
     "execution_count": 18,
     "metadata": {},
     "output_type": "execute_result"
    },
    {
     "data": {
      "image/png": "[encoded data removed]",
      "text/plain": [
       "<Figure size 432x288 with 1 Axes>"
      ]
     },
     "metadata": {
      "needs_background": "light"
     },
     "output_type": "display_data"
    }
   ],
   "source": [
    "fig, ax = plt.subplots()\n",
    "ax.set_xlabel('Lattice constant change [%]')  # x軸ラベル\n",
    "ax.set_ylabel('Energy [eV/system]')  # x軸ラベル\n",
    "# ax.set_title(r'$\\sin(x)$ and $\\cos(x)$') # グラフタイトル\n",
    "ax.grid() \n",
    "ax.plot(xx,yy)\n",
    "ax.scatter(X,Y)"
   ]
  },
  {
   "cell_type": "code",
   "execution_count": 19,
   "id": "059a2111",
   "metadata": {},
   "outputs": [],
   "source": [
    "def p_FreeE(vol,Temp):\n",
    "    k=ks.subs(x,vol)\n",
    "    KK=2*k*ev*(10**(10))**2 #J/m^2\n",
    "    nu=1/(2*math.pi)*sym.sqrt(KK/(M*10**(-3)/Na)); #frequency, omega:angular velocity\n",
    "    ee=har*nu/(kb*Temp)\n",
    "    FF1=-kb*Temp*sym.log(sym.exp(-ee/2)/(1-sym.exp(-ee)))\n",
    "    return e0.subs(x,vol)/p_n_atom+3*FF1"
   ]
  },
  {
   "cell_type": "code",
   "execution_count": 20,
   "id": "c9867b97",
   "metadata": {},
   "outputs": [],
   "source": [
    "vol=sym.symbols('vol')"
   ]
  },
  {
   "cell_type": "code",
   "execution_count": 21,
   "id": "c442d91d",
   "metadata": {},
   "outputs": [],
   "source": [
    "X0=np.linspace(-0.025,0.045,100);"
   ]
  },
  {
   "cell_type": "code",
   "execution_count": 22,
   "id": "f647ec00",
   "metadata": {},
   "outputs": [
    {
     "data": {
      "image/png": "[encoded data removed]",
      "text/plain": [
       "<Figure size 432x288 with 1 Axes>"
      ]
     },
     "metadata": {
      "needs_background": "light"
     },
     "output_type": "display_data"
    }
   ],
   "source": [
    "fig, ax = plt.subplots()\n",
    "ax.grid() \n",
    "for T in [10,200,400,600,800]:\n",
    "    lambdifyFunc = sym.lambdify(vol, p_FreeE(vol,T))\n",
    "    ax.plot(X0,lambdifyFunc(X0))"
   ]
  },
  {
   "cell_type": "code",
   "execution_count": 23,
   "id": "67f13dc8",
   "metadata": {},
   "outputs": [],
   "source": [
    "def bisection(func,x0,x1,loop=10):\n",
    "    f0=func.subs(vol,x0)\n",
    "    f1=func.subs(vol,x1)\n",
    "    for i in range(loop):\n",
    "        x_tmp=(x0+x1)/2\n",
    "        f_tmp=func.subs(vol,x_tmp)\n",
    "        if f0.evalf()<f1.evalf():\n",
    "            x1=x_tmp\n",
    "            f1=f_tmp\n",
    "        else:\n",
    "            x0=x_tmp\n",
    "            f0=f_tmp\n",
    "    return x_tmp"
   ]
  },
  {
   "cell_type": "code",
   "execution_count": 24,
   "id": "5fe35245",
   "metadata": {},
   "outputs": [],
   "source": [
    "sol0=[]\n",
    "t_v=[]\n",
    "for temp in [1,10,20,40,60,100,200,300,400,500,600,700,800]:\n",
    "    eq=p_FreeE(vol,temp)\n",
    "    vol0=bisection(eq,0.0,0.04,100)\n",
    "    sol0.append([vol0,p_FreeE(vol0,temp)])\n",
    "    t_v.append([temp,vol0])"
   ]
  },
  {
   "cell_type": "code",
   "execution_count": 25,
   "id": "fdf27b93",
   "metadata": {},
   "outputs": [
    {
     "data": {
      "text/plain": [
       "[[0.0042869853229785815, -3.69358724905472],\n",
       " [0.004286984205245972, -3.69358724905472],\n",
       " [0.0042869842052278544, -3.69358725038638],\n",
       " [0.004290344715118409, -3.69359249860059],\n",
       " [0.004329412132501603, -3.69368631264726],\n",
       " [0.004623675346374511, -3.69486556310544],\n",
       " [0.006192402839660643, -3.70651043104879],\n",
       " [0.008233994990587239, -3.72915813617862],\n",
       " [0.010481211990118023, -3.76014316480208],\n",
       " [0.01286791324615457, -3.79769937191575],\n",
       " [0.015373406335729669, -3.84067919092439],\n",
       " [0.017990927100181332, -3.88829376224803],\n",
       " [0.02071860299445688, -3.93997317956603]]"
      ]
     },
     "execution_count": 25,
     "metadata": {},
     "output_type": "execute_result"
    }
   ],
   "source": [
    "sol0"
   ]
  },
  {
   "cell_type": "code",
   "execution_count": 26,
   "id": "dca0fec2",
   "metadata": {},
   "outputs": [
    {
     "data": {
      "text/plain": [
       "[[1, 0.0042869853229785815],\n",
       " [10, 0.004286984205245972],\n",
       " [20, 0.0042869842052278544],\n",
       " [40, 0.004290344715118409],\n",
       " [60, 0.004329412132501603],\n",
       " [100, 0.004623675346374511],\n",
       " [200, 0.006192402839660643],\n",
       " [300, 0.008233994990587239],\n",
       " [400, 0.010481211990118023],\n",
       " [500, 0.01286791324615457],\n",
       " [600, 0.015373406335729669],\n",
       " [700, 0.017990927100181332],\n",
       " [800, 0.02071860299445688]]"
      ]
     },
     "execution_count": 26,
     "metadata": {},
     "output_type": "execute_result"
    }
   ],
   "source": [
    "t_v"
   ]
  },
  {
   "cell_type": "code",
   "execution_count": 27,
   "id": "6c16f82a",
   "metadata": {},
   "outputs": [
    {
     "data": {
      "image/png": "[encoded data removed]",
      "text/plain": [
       "<Figure size 432x288 with 1 Axes>"
      ]
     },
     "metadata": {
      "needs_background": "light"
     },
     "output_type": "display_data"
    }
   ],
   "source": [
    "fig, ax = plt.subplots()\n",
    "ax.grid() \n",
    "for T in [10,200,400,600,800]:\n",
    "    lambdifyFunc = sym.lambdify(vol, p_FreeE(vol,T))\n",
    "    ax.plot(X0,lambdifyFunc(X0))\n",
    "for i in range(len(sol0)):\n",
    "    ax.scatter(sol0[i][0],sol0[i][1])"
   ]
  },
  {
   "cell_type": "code",
   "execution_count": 28,
   "id": "adaeacb0",
   "metadata": {},
   "outputs": [
    {
     "data": {
      "text/plain": [
       "[<matplotlib.lines.Line2D at 0x13d34d940>]"
      ]
     },
     "execution_count": 28,
     "metadata": {},
     "output_type": "execute_result"
    },
    {
     "data": {
      "image/png": "[encoded data removed]",
      "text/plain": [
       "<Figure size 432x288 with 1 Axes>"
      ]
     },
     "metadata": {
      "needs_background": "light"
     },
     "output_type": "display_data"
    }
   ],
   "source": [
    "fig, ax = plt.subplots()\n",
    "ax.grid() \n",
    "X=[]\n",
    "Y=[]\n",
    "for i in range(len(t_v)):\n",
    "    X.append(t_v[i][0])\n",
    "    Y.append(t_v[i][1])\n",
    "    ax.scatter(t_v[i][0],t_v[i][1])\n",
    "    \n",
    "ax.plot(X,Y)"
   ]
  },
  {
   "cell_type": "code",
   "execution_count": 57,
   "id": "8aa6d480",
   "metadata": {},
   "outputs": [
    {
     "data": {
      "text/plain": [
       "-3.6"
      ]
     },
     "execution_count": 57,
     "metadata": {},
     "output_type": "execute_result"
    }
   ],
   "source": [
    "-720/200"
   ]
  },
  {
   "cell_type": "code",
   "execution_count": 30,
   "id": "49f079a0",
   "metadata": {},
   "outputs": [],
   "source": [
    "#<MatchData \" volume= 0.960\" 1:\" 0.960\">\n",
    "# for multiple volume calcs\n",
    "\n",
    "# data_source: [\"ein7_v096.o5424\"]\n",
    "# [no,        E_0,        k_x,        k_y,        k_z],\n",
    "vol_m4=[\n",
    "[ 6, n_atom, -726.51006,    3.14236,    3.13907,    3.33457],\n",
    "[ 1, n_atom, -726.51017,    3.20850,    3.24336,    4.68121],\n",
    "[ 9, n_atom, -726.51002,    2.94629,    3.02957,    3.38171],\n",
    "[33, n_atom, -726.51000,    3.53850,    3.70243,    3.66757],\n",
    "[26, n_atom, -726.51000,    3.58979,    3.73064,    3.64000],\n",
    "[ 4, n_atom, -726.51001,    2.99243,    3.04014,    3.65093],\n",
    "[ 2, n_atom, -726.51002,    3.06071,    2.89786,    3.91071],\n",
    "[36, n_atom, -726.51002,    3.48550,    3.51471,    3.13393],\n",
    "[ 3, n_atom, -726.51003,    3.00043,    3.46793,    4.18021],\n",
    "[49, n_atom, -726.51001,    3.49879,    3.50021,    2.70700],\n",
    "[ 0, n_atom, -726.51003,    2.92393,    3.61914,    4.18979],\n",
    "[28, n_atom, -726.51001,    3.19729,    4.03800,    3.37657],\n",
    "[25, n_atom, -726.51002,    3.24700,    4.07236,    3.63179],\n",
    "[29, n_atom, -726.51003,    3.06364,    4.14043,    3.72971]]\n",
    "\n",
    "#<MatchData \" volume= 0.980\" 1:\" 0.980\">\n",
    "# for multiple volume calcs\n",
    "\n",
    "# data_source: [\"ein7_v098.o5425\"]\n",
    "# [no,        E_0,        k_x,        k_y,        k_z],\n",
    "vol_m2=[\n",
    "[ 6, n_atom, -736.04552,    2.52771,    2.52329,    2.64821],\n",
    "[ 1, n_atom, -736.04565,    2.59664,    2.62414,    3.86150],\n",
    "[ 9, n_atom, -736.04553,    2.35450,    2.42400,    2.69000],\n",
    "[33, n_atom, -736.04554,    2.83679,    2.98100,    2.92421],\n",
    "[26, n_atom, -736.04550,    2.88607,    3.01643,    2.90686],\n",
    "[ 4, n_atom, -736.04554,    2.38443,    2.44136,    2.92929],\n",
    "[ 2, n_atom, -736.04552,    2.47050,    2.31407,    3.16857],\n",
    "[36, n_atom, -736.04555,    2.80843,    2.82893,    2.48786],\n",
    "[ 3, n_atom, -736.04552,    2.41000,    2.82450,    3.40214],\n",
    "[49, n_atom, -736.04551,    2.82186,    2.82029,    2.12993],\n",
    "[ 0, n_atom, -736.04554,    2.34129,    2.94700,    3.41393],\n",
    "[28, n_atom, -736.04552,    2.56414,    3.27343,    2.69193],\n",
    "[25, n_atom, -736.04553,    2.59286,    3.29871,    2.90007],\n",
    "[29, n_atom, -736.04554,    2.44343,    3.36407,    2.98943]]\n",
    "\n",
    "#<MatchData \" volume= 1.000\" 1:\" 1.000\">\n",
    "# for multiple volume calcs\n",
    "\n",
    "# data_source: [\"ein7_v100.o5426\"]\n",
    "# [no,        E_0,        k_x,        k_y,        k_z],\n",
    "vol_0=[\n",
    "[ 6, n_atom, -739.03593,    1.99386,    1.99500,    2.07764],\n",
    "[ 1, n_atom, -739.03606,    2.07707,    2.10014,    3.18221],\n",
    "[ 9, n_atom, -739.03597,    1.84250,    1.90814,    2.11564],\n",
    "[33, n_atom, -739.03597,    2.26321,    2.36864,    2.34079],\n",
    "[26, n_atom, -739.03599,    2.31093,    2.42086,    2.32064],\n",
    "[ 4, n_atom, -739.03599,    1.86886,    1.93843,    2.32436],\n",
    "[ 2, n_atom, -739.03599,    1.95386,    1.80907,    2.54321],\n",
    "[36, n_atom, -739.03597,    2.24686,    2.27064,    1.97793],\n",
    "[ 3, n_atom, -739.03600,    1.90250,    2.26721,    2.74200],\n",
    "[49, n_atom, -739.03596,    2.26543,    2.26736,    1.68400],\n",
    "[ 0, n_atom, -739.03600,    1.84543,    2.36514,    2.76264],\n",
    "[28, n_atom, -739.03598,    2.05079,    2.64586,    2.15014],\n",
    "[25, n_atom, -739.03600,    2.06843,    2.66271,    2.32507],\n",
    "[29, n_atom, -739.03599,    1.94250,    2.71564,    2.39336]]\n",
    "\n",
    "#<MatchData \" volume= 1.020\" 1:\" 1.020\">\n",
    "# for multiple volume calcs\n",
    "\n",
    "# data_source: [\"ein7_v102.o5427\"]\n",
    "# [no,        E_0,        k_x,        k_y,        k_z],\n",
    "vol_2=[\n",
    "[ 6, n_atom, -736.08654,    1.55900,    1.55857,    1.60071],\n",
    "[ 1, n_atom, -736.08662,    1.65164,    1.66429,    2.58971],\n",
    "[ 9, n_atom, -736.08655,    1.42743,    1.48486,    1.63614],\n",
    "[33, n_atom, -736.08656,    1.77021,    1.87550,    1.82950],\n",
    "[26, n_atom, -736.08656,    1.81729,    1.91421,    1.81529],\n",
    "[ 4, n_atom, -736.08655,    1.44464,    1.51800,    1.82000],\n",
    "[ 2, n_atom, -736.08657,    1.53750,    1.40293,    2.01786],\n",
    "[36, n_atom, -736.08656,    1.76864,    1.78636,    1.53079],\n",
    "[ 3, n_atom, -736.08657,    1.48943,    1.80064,    2.18857],\n",
    "[49, n_atom, -736.08654,    1.78171,    1.78193,    1.28286],\n",
    "[ 0, n_atom, -736.08658,    1.44086,    1.88464,    2.20871],\n",
    "[28, n_atom, -736.08656,    1.60350,    2.10264,    1.67300],\n",
    "[25, n_atom, -736.08656,    1.61271,    2.11543,    1.81879],\n",
    "[29, n_atom, -736.08656,    1.51157,    2.16107,    1.87729]]\n",
    "\n",
    "#<MatchData \" volume= 1.040\" 1:\" 1.040\">\n",
    "# for multiple volume calcs\n",
    "\n",
    "# data_source: [\"ein7_v104.o5428\"]\n",
    "# [no,        E_0,        k_x,        k_y,        k_z],\n",
    "vol_4=[\n",
    "[ 6, n_atom, -728.65826,    1.19464,    1.19321,    1.20293],\n",
    "[ 1, n_atom, -728.65832,    1.28821,    1.29793,    2.08750],\n",
    "[ 9, n_atom, -728.65824,    1.08407,    1.13464,    1.23971],\n",
    "[33, n_atom, -728.65825,    1.36336,    1.45214,    1.40579],\n",
    "[26, n_atom, -728.65824,    1.40579,    1.48964,    1.39521],\n",
    "[ 4, n_atom, -728.65824,    1.09486,    1.17143,    1.40100],\n",
    "[ 2, n_atom, -728.65826,    1.18914,    1.06643,    1.57700],\n",
    "[36, n_atom, -728.65825,    1.36343,    1.38021,    1.15600],\n",
    "[ 3, n_atom, -728.65826,    1.14414,    1.41193,    1.72093],\n",
    "[49, n_atom, -728.65830,    1.38429,    1.38557,    0.95236],\n",
    "[ 0, n_atom, -728.65826,    1.10186,    1.48257,    1.74079],\n",
    "[28, n_atom, -728.65824,    1.23100,    1.64464,    1.27614],\n",
    "[25, n_atom, -728.65825,    1.23300,    1.65536,    1.39793],\n",
    "[29, n_atom, -728.65825,    1.15257,    1.69407,    1.44500]]"
   ]
  },
  {
   "cell_type": "code",
   "execution_count": 31,
   "id": "5f55bfe8",
   "metadata": {},
   "outputs": [],
   "source": [
    "ks_all_data=[[-0.04,vol_m4],[-0.02, vol_m2],[0,vol_0],[0.02,vol_2],[0.04,vol_4]]\n",
    "# ks_all_data=[[-0.04, vol_m4],[-0.02, vol_m2],[0,vol_0],[0.02,vol_2],[0.04,vol_4]]"
   ]
  },
  {
   "cell_type": "code",
   "execution_count": 32,
   "id": "0e564504",
   "metadata": {},
   "outputs": [],
   "source": [
    "def second_or_third(x_data,y_data,poly):\n",
    "    if poly=='second':\n",
    "        popt, pcov = curve_fit(func2,x_data,y_data) \n",
    "        eq_fit=popt[0]+popt[1]*x+popt[2]*x**2\n",
    "    elif poly=='third':\n",
    "        popt, pcov = curve_fit(func3,x_data,y_data) \n",
    "        eq_fit=popt[0]+popt[1]*x+popt[2]*x**2+popt[3]*x**3\n",
    "    return eq_fit"
   ]
  },
  {
   "cell_type": "code",
   "execution_count": 33,
   "id": "ae14c50b",
   "metadata": {},
   "outputs": [],
   "source": [
    "def point_plot(x_data,y_data):\n",
    "    fig, ax = plt.subplots()\n",
    "    ax.grid() \n",
    "    ax.scatter(x_data,y_data)\n",
    "    plt.close(fig)\n",
    "    return fig\n",
    "\n",
    "def curve_plot(f,x_min,x_max):\n",
    "    xx = np.linspace(x_min, x_max, 100)\n",
    "    yy=[]\n",
    "    for _x  in xx:\n",
    "        yy.append(f.subs(x,_x))\n",
    "    fig, ax = plt.subplots()\n",
    "    ax.grid() \n",
    "    ax.plot(xx,yy)\n",
    "    plt.close(fig)\n",
    "    return fig\n",
    "\n",
    "def point_curve_plot(x_data,y_data,f,x_min,x_max):\n",
    "    xx = np.linspace(x_min, x_max, 100)\n",
    "    yy=[]\n",
    "    for _x  in xx:\n",
    "        yy.append(f.subs(x,_x))\n",
    "    fig, ax = plt.subplots()\n",
    "    ax.grid() \n",
    "    ax.plot(xx,yy)\n",
    "    ax.scatter(x_data,y_data)\n",
    "    plt.close(fig)\n",
    "    return fig"
   ]
  },
  {
   "cell_type": "code",
   "execution_count": 34,
   "id": "61fca852",
   "metadata": {},
   "outputs": [],
   "source": [
    "colors=['','','','blue','blue','red','green']"
   ]
  },
  {
   "cell_type": "code",
   "execution_count": 35,
   "id": "7ac08079",
   "metadata": {},
   "outputs": [],
   "source": [
    "def plot_e0_ks(i_site,e0_poly,ks_poly):\n",
    "    site_plots=[]\n",
    "    ks_fig, ks_ax = plt.subplots()\n",
    "    ks_ax.grid() \n",
    "    for j in range(2,6):\n",
    "        data=[[],[]]\n",
    "        for element in ks_all_data:\n",
    "            data[0].append(element[0])\n",
    "            data[1].append(element[1][i_site][j])\n",
    "        if j==2:\n",
    "            f1=second_or_third(data[0],data[1],e0_poly)\n",
    "            p1=point_curve_plot(data[0],data[1],f1,-0.03,0.05)\n",
    "        else:\n",
    "            f1=second_or_third(data[0],data[1],ks_poly)\n",
    "            p1=point_curve_plot(data[0],data[1],f1,-0.03,0.05)\n",
    "            \n",
    "            ks_ax.scatter(data[0],data[1],color=colors[j])\n",
    "            xx = np.linspace(-0.03,0.05, 100)\n",
    "            yy=[]\n",
    "            for _x  in xx:\n",
    "                yy.append(f1.subs(x,_x))\n",
    "            ks_ax.plot(xx,yy,color=colors[j])\n",
    "            plt.close(ks_fig)\n",
    "        site_plots.append(p1)\n",
    "    return site_plots,ks_fig"
   ]
  },
  {
   "cell_type": "code",
   "execution_count": 36,
   "id": "84329641",
   "metadata": {},
   "outputs": [],
   "source": [
    "def fitting_select(e0_poly,ks_poly):\n",
    "    all_d=[]\n",
    "    for i in range(n_equi):\n",
    "        i_data=[]\n",
    "        for j in range(2,6):\n",
    "            data=[[],[]]\n",
    "            for element in ks_all_data:\n",
    "                data[0].append(element[0])\n",
    "                try:\n",
    "                    data[1].append(element[1][i][j])\n",
    "                except IndexError as e:\n",
    "                    print(len(element[1]))\n",
    "            if j==2:\n",
    "                func=second_or_third(data[0],data[1],e0_poly)\n",
    "            else:\n",
    "                 func=second_or_third(data[0],data[1],ks_poly)\n",
    "            i_data.append(func)\n",
    "        all_d.append(i_data)\n",
    "    return all_d"
   ]
  },
  {
   "cell_type": "code",
   "execution_count": 37,
   "id": "52fbfbb3",
   "metadata": {
    "scrolled": true
   },
   "outputs": [],
   "source": [
    "all_d=fitting_select('second','second')"
   ]
  },
  {
   "cell_type": "code",
   "execution_count": 38,
   "id": "58cdc089",
   "metadata": {},
   "outputs": [],
   "source": [
    "def boundary_site_FreeE(vol,Temp,ii,xyz):\n",
    "    k=all_d[ii][xyz]\n",
    "    k=k.subs(x,vol)\n",
    "    KK=2*k*ev*(10**(10))**2 #J/m^2\n",
    "    nu=1/(2*math.pi)*sym.sqrt(KK/(M*10**(-3)/Na)); #frequency, omega:angular velocity\n",
    "    ee=har*nu/(kb*Temp)\n",
    "    FF1=-kb*Temp*sym.log(sym.exp(-ee/2)/(1-sym.exp(-ee)))\n",
    "    e0=all_d[ii][0]\n",
    "    return (e0.subs(x,vol)/(n_atom*3)+FF1)*layer"
   ]
  },
  {
   "cell_type": "code",
   "execution_count": 39,
   "id": "0eeff53a",
   "metadata": {},
   "outputs": [],
   "source": [
    "def boundary_total(vol,temp):\n",
    "    sum0=0.0\n",
    "    for i in range(n_equi):\n",
    "        for xyz in range(1,4):\n",
    "            sum0+=equi_n[i]*boundary_site_FreeE(vol,temp,i,xyz)\n",
    "    return sum0"
   ]
  },
  {
   "cell_type": "code",
   "execution_count": 40,
   "id": "4808d70e",
   "metadata": {},
   "outputs": [
    {
     "data": {
      "text/latex": [
       "$\\displaystyle -731.23588408732$"
      ],
      "text/plain": [
       "-731.235884087320"
      ]
     },
     "execution_count": 40,
     "metadata": {},
     "output_type": "execute_result"
    }
   ],
   "source": [
    "bb=boundary_total(t_v[0][1],t_v[0][0])\n",
    "bb"
   ]
  },
  {
   "cell_type": "code",
   "execution_count": 41,
   "id": "364b89e0",
   "metadata": {},
   "outputs": [
    {
     "data": {
      "text/latex": [
       "$\\displaystyle -738.717449810945$"
      ],
      "text/plain": [
       "-738.717449810945"
      ]
     },
     "execution_count": 41,
     "metadata": {},
     "output_type": "execute_result"
    }
   ],
   "source": [
    "p0=p_FreeE(t_v[0][1],t_v[0][0])*n_atom\n",
    "p0"
   ]
  },
  {
   "cell_type": "code",
   "execution_count": 42,
   "id": "1753b105",
   "metadata": {},
   "outputs": [
    {
     "data": {
      "text/latex": [
       "$\\displaystyle 7.48156572362439$"
      ],
      "text/plain": [
       "7.48156572362439"
      ]
     },
     "execution_count": 42,
     "metadata": {},
     "output_type": "execute_result"
    }
   ],
   "source": [
    "bb-p0"
   ]
  },
  {
   "cell_type": "code",
   "execution_count": 43,
   "id": "b9b1d6ad",
   "metadata": {},
   "outputs": [
    {
     "data": {
      "text/latex": [
       "$\\displaystyle -3.69358724905472$"
      ],
      "text/plain": [
       "-3.69358724905472"
      ]
     },
     "execution_count": 43,
     "metadata": {},
     "output_type": "execute_result"
    }
   ],
   "source": [
    "p_FreeE(t_v[0][1],t_v[0][0])"
   ]
  },
  {
   "cell_type": "code",
   "execution_count": 44,
   "id": "82dda257",
   "metadata": {},
   "outputs": [],
   "source": [
    "def boundary_total_min(volume,t):\n",
    "    eq=sym.diff(boundary_total(vol,100),vol)\n",
    "    vol0=bisection(eq,0.0,0.04,100)\n",
    "    return [boundary_total(vol0,t),vol0]"
   ]
  },
  {
   "cell_type": "code",
   "execution_count": 45,
   "id": "37caec51",
   "metadata": {},
   "outputs": [],
   "source": [
    "def defect_energy(temp,vol):\n",
    "    bb=boundary_total(vol,temp)\n",
    "    p0=p_FreeE(vol,temp)*n_atom\n",
    "    d_ene=bb-p0\n",
    "    return [temp,d_ene,vol]"
   ]
  },
  {
   "cell_type": "code",
   "execution_count": 46,
   "id": "e79ffbd1",
   "metadata": {},
   "outputs": [],
   "source": [
    "t_b=[]\n",
    "rev_t_v=[]\n",
    "for i in range(len(t_v)):\n",
    "    tmp=defect_energy(t_v[i][0],t_v[i][1])\n",
    "    t_b.append([tmp[0],tmp[1].evalf()])\n",
    "    rev_t_v.append([t_v[i][0],tmp[2]])"
   ]
  },
  {
   "cell_type": "code",
   "execution_count": 47,
   "id": "de947065",
   "metadata": {},
   "outputs": [
    {
     "data": {
      "text/plain": [
       "[<matplotlib.lines.Line2D at 0x13d0041c0>]"
      ]
     },
     "execution_count": 47,
     "metadata": {},
     "output_type": "execute_result"
    },
    {
     "data": {
      "image/png": "[encoded data removed]",
      "text/plain": [
       "<Figure size 432x288 with 1 Axes>"
      ]
     },
     "metadata": {
      "needs_background": "light"
     },
     "output_type": "display_data"
    }
   ],
   "source": [
    "fig, ax = plt.subplots()\n",
    "ax.grid() \n",
    "X=[]\n",
    "Y=[]\n",
    "for i in range(len(t_b)):\n",
    "    X.append(t_b[i][0])\n",
    "    Y.append(t_b[i][1])\n",
    "    ax.scatter(t_b[i][0],t_b[i][1])\n",
    "    \n",
    "ax.plot(X,Y)"
   ]
  },
  {
   "cell_type": "code",
   "execution_count": 48,
   "id": "4b71e468",
   "metadata": {},
   "outputs": [],
   "source": [
    "t_b=[]\n",
    "for i in range(13):\n",
    "    bb=boundary_total(t_v[i][1],t_v[i][0])\n",
    "    p0=p_FreeE(t_v[i][1],t_v[i][0])*n_atom\n",
    "    dde=bb-p0\n",
    "    ss=ss0*(1.0+t_v[i][1])**2\n",
    "    de=dde\n",
    "    es=de/ss* 1.60218 * 10 /2 *1000\n",
    "    t_b.append([t_v[i][0],es])"
   ]
  },
  {
   "cell_type": "code",
   "execution_count": 49,
   "id": "e058d42d",
   "metadata": {
    "scrolled": true
   },
   "outputs": [
    {
     "data": {
      "text/plain": [
       "[[1, 290.989264519741],\n",
       " [10, 290.989265458351],\n",
       " [20, 290.989254384452],\n",
       " [40, 290.973831940489],\n",
       " [60, 290.823688250011],\n",
       " [100, 289.839228663706],\n",
       " [200, 285.108104523230],\n",
       " [300, 279.302011775910],\n",
       " [400, 273.211973363008],\n",
       " [500, 267.098807968616],\n",
       " [600, 261.121956985459],\n",
       " [700, 255.423202297325],\n",
       " [800, 250.151269135399]]"
      ]
     },
     "execution_count": 49,
     "metadata": {},
     "output_type": "execute_result"
    }
   ],
   "source": [
    "t_b"
   ]
  },
  {
   "cell_type": "markdown",
   "id": "f6e8a788",
   "metadata": {},
   "source": [
    "# 温度依存性"
   ]
  },
  {
   "cell_type": "code",
   "execution_count": 50,
   "id": "194f1f77",
   "metadata": {},
   "outputs": [],
   "source": [
    "data_1 = [[513, 379], [573, 365], [623, 357], [673, 346], [723, 336], [773, 325]]\n",
    "data_2 = [[513, 364], [573, 353], [623, 344], [673, 333], [723, 324], [773, 315]]\n",
    "data_3= [[513, 320], [573, 310], [623, 300], [673, 293], [723, 284], [773, 276]]"
   ]
  },
  {
   "cell_type": "code",
   "execution_count": 51,
   "id": "ae3e9caf",
   "metadata": {},
   "outputs": [
    {
     "data": {
      "text/plain": [
       "[<matplotlib.lines.Line2D at 0x13cecb310>]"
      ]
     },
     "execution_count": 51,
     "metadata": {},
     "output_type": "execute_result"
    },
    {
     "data": {
      "image/png": "[encoded data removed]",
      "text/plain": [
       "<Figure size 432x288 with 1 Axes>"
      ]
     },
     "metadata": {
      "needs_background": "light"
     },
     "output_type": "display_data"
    }
   ],
   "source": [
    "fig, ax = plt.subplots()\n",
    "ax.grid() \n",
    "X=[]\n",
    "Y=[]\n",
    "X1=[]\n",
    "Y1=[]\n",
    "X2=[]\n",
    "Y2=[]\n",
    "X3=[]\n",
    "Y3=[]\n",
    "for i in range(len(t_b)):\n",
    "    X.append(t_b[i][0])\n",
    "    Y.append(t_b[i][1])\n",
    "    ax.scatter(t_b[i][0],t_b[i][1])\n",
    "    \n",
    "for i in range(len(data_1)):\n",
    "    X1.append(data_1[i][0])\n",
    "    Y1.append(data_1[i][1])\n",
    "    ax.scatter(data_1[i][0],data_1[i][1])\n",
    "    X2.append(data_2[i][0])\n",
    "    Y2.append(data_2[i][1])\n",
    "    ax.scatter(data_2[i][0],data_2[i][1])\n",
    "    X3.append(data_3[i][0])\n",
    "    Y3.append(data_3[i][1])\n",
    "    ax.scatter(data_3[i][0],data_3[i][1])\n",
    "    \n",
    "ax.plot(X,Y)\n",
    "ax.plot(X1,Y1)\n",
    "ax.plot(X2,Y2)\n",
    "ax.plot(X3,Y3)"
   ]
  },
  {
   "cell_type": "code",
   "execution_count": 52,
   "id": "e0e3b983",
   "metadata": {},
   "outputs": [],
   "source": [
    "all_ks=[]\n",
    "for i in range(n_equi):\n",
    "    for j in range(0,4):\n",
    "        all_ks.append(all_d[i][j])"
   ]
  },
  {
   "cell_type": "code",
   "execution_count": 53,
   "id": "9ef13b06",
   "metadata": {},
   "outputs": [],
   "source": [
    "vol_m=bisection(p_FreeE(vol,513),0.0,0.04,100)"
   ]
  },
  {
   "cell_type": "code",
   "execution_count": 54,
   "id": "679eae59",
   "metadata": {},
   "outputs": [],
   "source": [
    "k_0=ks.subs(x,vol_m)\n",
    "e_0=e0.subs(x,vol_m)/p_n_atom\n",
    "ks_disp=[]\n",
    "for i in range(n_equi):\n",
    "    for k in range(equi_n[i]):\n",
    "        for j in range(1,4):\n",
    "            ks_disp.append(all_d[i][j].subs(x,vol_m))"
   ]
  },
  {
   "cell_type": "code",
   "execution_count": 55,
   "id": "6a4833bc",
   "metadata": {},
   "outputs": [],
   "source": [
    "ks_disp.sort()"
   ]
  },
  {
   "cell_type": "code",
   "execution_count": 56,
   "id": "c24ad61b",
   "metadata": {},
   "outputs": [
    {
     "data": {
      "text/plain": [
       "[<matplotlib.lines.Line2D at 0x13d2c0340>]"
      ]
     },
     "execution_count": 56,
     "metadata": {},
     "output_type": "execute_result"
    },
    {
     "data": {
      "image/png": "[encoded data removed]",
      "text/plain": [
       "<Figure size 432x288 with 1 Axes>"
      ]
     },
     "metadata": {
      "needs_background": "light"
     },
     "output_type": "display_data"
    }
   ],
   "source": [
    "fig, ax = plt.subplots()\n",
    "ax.grid() \n",
    "X=[]\n",
    "Y=[]\n",
    "Y0=[] #k_0\n",
    "for i in range(len(ks_disp)):\n",
    "    X.append(i)\n",
    "    Y.append(ks_disp[i])\n",
    "    Y0.append(k_0)\n",
    "    \n",
    "ax.plot(X,Y)\n",
    "ax.plot(X,Y0)"
   ]
  },
  {
   "cell_type": "code",
   "execution_count": null,
   "id": "2adc55e3",
   "metadata": {},
   "outputs": [],
   "source": []
  }
 ],
 "metadata": {
  "kernelspec": {
   "display_name": "Python 3 (ipykernel)",
   "language": "python",
   "name": "python3"
  },
  "language_info": {
   "codemirror_mode": {
    "name": "ipython",
    "version": 3
   },
   "file_extension": ".py",
   "mimetype": "text/x-python",
   "name": "python",
   "nbconvert_exporter": "python",
   "pygments_lexer": "ipython3",
   "version": "3.8.13"
  }
 },
 "nbformat": 4,
 "nbformat_minor": 5
}
